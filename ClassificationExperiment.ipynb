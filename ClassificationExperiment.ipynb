{
 "cells": [
  {
   "cell_type": "code",
   "execution_count": 1,
   "metadata": {
    "collapsed": true
   },
   "outputs": [],
   "source": [
    "import numpy as np\n",
    "from numpy import random\n",
    "import matplotlib.pyplot as plt\n",
    "from sklearn.externals.joblib import Memory\n",
    "from sklearn.datasets import load_svmlight_file\n",
    "from sklearn.model_selection import train_test_split"
   ]
  },
  {
   "cell_type": "code",
   "execution_count": 2,
   "metadata": {
    "collapsed": true
   },
   "outputs": [],
   "source": [
    "# Load the experiment data\n",
    "mem = Memory(\"./mycache\")\n",
    "\n",
    "@mem.cache\n",
    "def get_data(f):\n",
    "    data = load_svmlight_file(f)    \n",
    "    return data"
   ]
  },
  {
   "cell_type": "markdown",
   "metadata": {},
   "source": [
    "Loss Function:\n",
    "$$ L= \\frac{1}{N}\\sum_{i}\\sum_{j\\ne y_i}[max(0,f(x_i;W)_j-f(x_i;W)_{y_i}+\\Delta]+\\lambda \\sum_k\\sum_lW^2_{k,l}$$\n",
    "Gradient Matrix:\n",
    "$$ \\frac{\\partial L}{\\partial w_{y_i}}=-(\\sum_{j \\ne y_i}1(w^T_jx_i-w^T_{y_i}x_i+\\Delta>0))x_i \\quad \\quad (j=y_i)$$\n",
    "$$ \\frac{\\partial L}{\\partial w_j}=1(w^T_jx_i-w^T_{y_i}x_i+\\Delta>0))x_i \\quad \\quad \\quad \\quad (j\\ne y_i)$$\n",
    "where l(x) is an indicator function：\n",
    "$$l(x==T)=1$$\n",
    "$$l(x==F)=0$$"
   ]
  },
  {
   "cell_type": "code",
   "execution_count": 3,
   "metadata": {
    "collapsed": true
   },
   "outputs": [],
   "source": [
    "def predict(W , X, y ):\n",
    "    \"\"\"\n",
    "    Inputs:\n",
    "    - W: A numpy array of shape (D, C) containing weights.\n",
    "    - x: A numpy array of shape (N, D) containing a minibatch of training data.\n",
    "    - y: A numpy array of shape (N,) containing training labels; ytrain[i] = c means that xtrain[i] has label c, where 0 <= c <C.\n",
    "   \n",
    "    Returns a tuple of:\n",
    "    - prediction of y\n",
    "    - accuracy of the model\n",
    "    \"\"\"\n",
    "    # the class scores for all examples\n",
    "    score = np.dot(X,W)\n",
    "    # find the index with max score in each column (the predicted class)\n",
    "    y_pred= np.argmax(score, axis = 1)\n",
    "    # and calculate accuracy (fraction of predictions that are correct)\n",
    "    cmp=(y_pred == y)\n",
    "    accuracy=len(cmp[cmp==True])/len(cmp)\n",
    "    \n",
    "    return y_pred,accuracy "
   ]
  },
  {
   "cell_type": "code",
   "execution_count": 4,
   "metadata": {
    "collapsed": true
   },
   "outputs": [],
   "source": [
    "def svm(W, xtrain, ytrain, xtest, ytest, threshold, reg):\n",
    "  \"\"\"\n",
    "  Inputs:\n",
    "  - W: A numpy array of shape (D, C) containing weights.\n",
    "  - xtrain: A numpy array of shape (num_train, D) containing a minibatch of training data.\n",
    "  - ytrain: A numpy array of shape (num_train,) containing training labels; ytrain[i] = c means that xtrain[i] has label c, where 0 <= c <C.\n",
    "  - xtest: A numpy array of shape (num_test, D) containing a minibatch of test data.\n",
    "  - ytest: A numpy array of shape (num_test,) containing test labels\n",
    "  - threshold: mark the sample whose predict scores greater than the threshold as positive, on the contrary as negative.\n",
    "  - reg: (float) regularization strength\n",
    "  \n",
    "  Returns a tuple of:\n",
    "  - train_loss as single float\n",
    "  - test_loss as single float\n",
    "  - gradient with respect to weights W; an array of same shape as W\n",
    "  \"\"\"\n",
    "  dW = np.zeros(W.shape) # initialize the gradient as zero  \n",
    "  num_classes = W.shape[1]\n",
    "  #train \n",
    "  train_loss = 0\n",
    "  scores_train = xtrain.dot(W)  # num_train by C\n",
    "  num_train = xtrain.shape[0]\n",
    "  scores_train_correct = scores_train[np.arange(num_train), ytrain] # 1 by num_train\n",
    "  scores_train_correct = np.reshape(scores_train_correct, (num_train, 1)) # num_train by 1\n",
    "  margins_train = scores_train - scores_train_correct + 1.0 # num_train by C\n",
    "  margins_train[np.arange(num_train), ytrain] = 0.0 \n",
    "  margins_train[margins_train <= threshold] = 0.0\n",
    "  train_loss += np.sum(margins_train) / num_train\n",
    "  train_loss += reg * np.sum(W * W) \n",
    "  margins_train[margins_train > threshold] = 1.0                       \n",
    "  row_sum = np.sum(margins_train, axis=1)                  # 1 by num_train\n",
    "  margins_train[np.arange(num_train), ytrain] = -row_sum  \n",
    "  dW += np.dot(xtrain.T, margins_train)/num_train + reg * W     # D by C\n",
    "  #test\n",
    "  test_loss = 0\n",
    "  scores_test = xtest.dot(W)  # num_test by C\n",
    "  num_test = xtest.shape[0]\n",
    "  scores_test_correct = scores_test[np.arange(num_test), ytest] # 1 by N\n",
    "  scores_test_correct = np.reshape(scores_test_correct, (num_test, 1)) # N by 1\n",
    "  margins_test = scores_test - scores_test_correct + 1.0 # N by C\n",
    "  margins_test[np.arange(num_test), ytest] = 0.0 \n",
    "  margins_test[margins_test <= threshold] = 0.0\n",
    "  test_loss += np.sum(margins_test) / num_test\n",
    "  test_loss += reg * np.sum(W * W)\n",
    "\n",
    "  return train_loss, test_loss, dW\n"
   ]
  },
  {
   "cell_type": "code",
   "execution_count": 5,
   "metadata": {
    "scrolled": true
   },
   "outputs": [
    {
     "name": "stderr",
     "output_type": "stream",
     "text": [
      "WARNING:root:[MemorizedFunc(func=<function get_data at 0x000001906010D2F0>, cachedir='./mycache\\\\joblib')]: Clearing cache ./mycache\\joblib\\__main__-C%3A-Users-yingting\\huang-Deep Learning-__ipython-input__\\get_data\n"
     ]
    },
    {
     "name": "stdout",
     "output_type": "stream",
     "text": [
      "________________________________________________________________________________\n",
      "[Memory] Calling __main__-C%3A-Users-yingting.huang-Deep Learning-__ipython-input__.get_data...\n",
      "get_data(f='D:\\\\研一\\\\课件\\\\深度学习\\\\libsvm-3.22\\\\Australian_scale')\n",
      "_________________________________________________________get_data - 0.0s, 0.0min\n"
     ]
    }
   ],
   "source": [
    "# Data preparation  \n",
    "data = get_data(f=\"D:\\研一\\课件\\深度学习\\libsvm-3.22\\Australian_scale\")\n",
    "# Data preprocessing\n",
    "X=data[0].toarray()\n",
    "X= np.column_stack((X,np.ones([X.shape[0],1]))) #add bias \n",
    "Y=data[1]\n",
    "Y=Y.reshape(len(Y),order='C') \n",
    "Y=Y.astype(np.int)  # float->int\n",
    "Y[Y== -1]=0"
   ]
  },
  {
   "cell_type": "code",
   "execution_count": 6,
   "metadata": {
    "collapsed": true
   },
   "outputs": [],
   "source": [
    "# Devide dataset\n",
    "x_train, x_validation, y_train, y_validation = train_test_split(X, Y, test_size=0.4, random_state=42)\n",
    "N,D=x_train.shape # N is batch size; D is input dimension\n",
    "C=len(list(set(y_train))) # total number of labels"
   ]
  },
  {
   "cell_type": "code",
   "execution_count": 7,
   "metadata": {
    "collapsed": true
   },
   "outputs": [],
   "source": [
    "# Initialize parameter  \n",
    "W = np.zeros((D, C)) # weights\n",
    "maxIterations=1000\n",
    "threshold=0 #mark the sample whose predict scores greater than the threshold as positive, on the contrary as negative.\n",
    "reg= 0.1 #regularization strength\n",
    "eta = 0.01 # learning rate\n",
    "L_train=[]; # train loss\n",
    "L_validation=[]; #validation loss"
   ]
  },
  {
   "cell_type": "code",
   "execution_count": 8,
   "metadata": {
    "collapsed": true
   },
   "outputs": [],
   "source": [
    "# Iterations \n",
    "for t in range(maxIterations):\n",
    "   \n",
    "    # Compute loss\n",
    "    train_loss, validation_loss, grad_W= svm(W, x_train, y_train,  x_validation, y_validation, threshold, reg)\n",
    "    \n",
    "    # Save the values\n",
    "    L_train.append (train_loss)\n",
    "    L_validation.append (validation_loss)\n",
    "    \n",
    "    # Update weights using gradient descent\n",
    "    W -= eta * grad_W\n",
    "    "
   ]
  },
  {
   "cell_type": "code",
   "execution_count": 13,
   "metadata": {},
   "outputs": [
    {
     "data": {
      "image/png": "[encoded data removed]",
      "text/plain": [
       "<matplotlib.figure.Figure at 0x190621e9898>"
      ]
     },
     "metadata": {},
     "output_type": "display_data"
    }
   ],
   "source": [
    "# Plot \n",
    "plt.plot(L_train,'r',label='train loss')\n",
    "plt.plot(L_validation,'b',label='validation loss')\n",
    "plt.title('Loss Curve') # give plot a title\n",
    "plt.xlabel('Iterations')# make axis labels\n",
    "plt.ylabel('Loss')\n",
    "plt.legend()\n",
    "plt.show()"
   ]
  },
  {
   "cell_type": "code",
   "execution_count": 12,
   "metadata": {},
   "outputs": [
    {
     "name": "stdout",
     "output_type": "stream",
     "text": [
      "------------Assessment Results-----------\n",
      "training accuracy= 0.857487922705314\n",
      "\n",
      "------------Predicted Results------------\n",
      "validation accuracy= 0.8514492753623188\n"
     ]
    }
   ],
   "source": [
    "# Assessment Result\n",
    "y_train_pred,training_accuracy = predict(W , x_train, y_train )\n",
    "print('------------Assessment Results-----------\\ntraining accuracy=',training_accuracy)\n",
    "\n",
    "#Predicted Result\n",
    "y_validation_pred,validation_accuracy = predict(W , x_validation, y_validation )\n",
    "print('\\n------------Predicted Results------------\\nvalidation accuracy=',validation_accuracy)"
   ]
  }
 ],
 "metadata": {
  "kernelspec": {
   "display_name": "Python 3",
   "language": "python",
   "name": "python3"
  },
  "language_info": {
   "codemirror_mode": {
    "name": "ipython",
    "version": 3
   },
   "file_extension": ".py",
   "mimetype": "text/x-python",
   "name": "python",
   "nbconvert_exporter": "python",
   "pygments_lexer": "ipython3",
   "version": "3.6.3"
  }
 },
 "nbformat": 4,
 "nbformat_minor": 2
}

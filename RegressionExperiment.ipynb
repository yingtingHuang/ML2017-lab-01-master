{
 "cells": [
  {
   "cell_type": "code",
   "execution_count": 197,
   "metadata": {
    "collapsed": true
   },
   "outputs": [],
   "source": [
    "import numpy as np\n",
    "from numpy import random\n",
    "import matplotlib.pyplot as plt\n",
    "from sklearn.externals.joblib import Memory\n",
    "from sklearn.datasets import load_svmlight_file\n",
    "from sklearn.model_selection import train_test_split"
   ]
  },
  {
   "cell_type": "code",
   "execution_count": 198,
   "metadata": {
    "collapsed": true
   },
   "outputs": [],
   "source": [
    "# Load the experiment data\n",
    "mem = Memory(\"./mycache\")\n",
    "\n",
    "@mem.cache\n",
    "def get_data(f):\n",
    "    data = load_svmlight_file(f)    \n",
    "    return data"
   ]
  },
  {
   "cell_type": "markdown",
   "metadata": {},
   "source": [
    "Loss Function:\n",
    "$$ L= ||W^TX-y||^2$$\n",
    "Gradient Matrix:\n",
    "$$ \\frac{\\partial L}{\\partial W}=2(W^TX-y)X$$"
   ]
  },
  {
   "cell_type": "code",
   "execution_count": 199,
   "metadata": {
    "collapsed": true
   },
   "outputs": [],
   "source": [
    "def linearRegression(W, xtrain, ytrain, xtest, ytest):\n",
    "  \"\"\"\n",
    "  Inputs:\n",
    "  - W: A numpy array of shape (D_in, D_out) containing weights.\n",
    "  - xtrain: A numpy array of shape (N, D_in) containing a minibatch of data.\n",
    "  - ytrain: A numpy array of shape (N, D_out) containing training target value; \n",
    "  - xtest: A numpy array of shape (N2, D_in) containing test data.\n",
    "  - ytest: A numpy array of shape (N2, D_out) containing test target value; \n",
    "  \n",
    "  Returns a tuple of:\n",
    "  - loss as single float\n",
    "  - gradient with respect to weights W; an array of same shape as W\n",
    "  \"\"\"\n",
    "  num_train = X.shape[0]\n",
    "  train_loss = 0\n",
    "  test_loss =0 \n",
    "  dW = np.zeros(W.shape) # initialize the gradient as zero  \n",
    "  ytrain_pred = np.dot(xtrain,W)  # N by 1\n",
    "  ytest_pred = np.dot(xtest,W)  # N by 1\n",
    "  train_loss = np.power((ytrain_pred-ytrain),2).sum()\n",
    "  test_loss  = np.power((ytest_pred-ytest),2).sum()   \n",
    "  grad_y= 2.0 * (ytrain_pred-ytrain)\n",
    "  dW =  np.dot(xtrain.T,grad_y)/ num_train\n",
    "\n",
    "  return train_loss, test_loss, dW"
   ]
  },
  {
   "cell_type": "code",
   "execution_count": 200,
   "metadata": {
    "collapsed": true
   },
   "outputs": [],
   "source": [
    "def predict(W , X, y ):\n",
    "    \"\"\"\n",
    "    Inputs:\n",
    "    - W: A numpy array of shape (D_in, D_out) containing weights.\n",
    "    - x: A numpy array of shape (N, D_in) containing a minibatch of data.\n",
    "    - y: A numpy array of shape (N, D_out) containing target value\n",
    "  \n",
    "    Returns a tuple of:\n",
    "    - prediction of y\n",
    "    - root mean squared error\n",
    "    - coefficient of determination\n",
    "    - degree-of-freedom adjusted coefficient of determination\n",
    "    \"\"\"    \n",
    "\n",
    "    N,D_in =X.shape # N is total sample size ; D_in is the number of predictors\n",
    "    y_pred= np.dot(X ,W)\n",
    "    #he sum of squares due to error\n",
    "    SSE =np.power((y_pred-y),2).sum()\n",
    "    #Mean squared error\n",
    "    MSE =SSE/N\n",
    "    #Root mean squared error\n",
    "    RMSE = np.sqrt(MSE)\n",
    "    #Total sum of squares\n",
    "    SST =np.power((y-np.mean(y_train)),2).sum()\n",
    "    #Coefficient of determination\n",
    "    R2=1-SSE/SST\n",
    "    #Degree-of-freedom adjusted coefficient of determination\n",
    "    adj_R2=1-(N-1) *(1-R2)/(N-D_in-1)\n",
    "    \n",
    "    return y_pred,RMSE,R2,adj_R2 "
   ]
  },
  {
   "cell_type": "code",
   "execution_count": 201,
   "metadata": {
    "collapsed": true
   },
   "outputs": [],
   "source": [
    "# Data preparation  \n",
    "data = get_data(f=\"D:\\研一\\课件\\深度学习\\libsvm-3.22\\housing_scale\")\n",
    "\n",
    "# Data preprocessing\n",
    "X=data[0].toarray()\n",
    "X=np.column_stack((X,np.ones([X.shape[0],1]))) #add bias \n",
    "Y=data[1]\n",
    "Y=Y.reshape((len(Y),1))"
   ]
  },
  {
   "cell_type": "code",
   "execution_count": 202,
   "metadata": {
    "collapsed": true
   },
   "outputs": [],
   "source": [
    "# Devide dataset\n",
    "x_train, x_validation, y_train, y_validation = train_test_split(X, Y, test_size=0.4, random_state=42)\n",
    "N,D_in=x_train.shape #  D_in is input dimension; N is batch size;\n",
    "D_out =y_train.shape[1] # D_out is output dimension"
   ]
  },
  {
   "cell_type": "code",
   "execution_count": 203,
   "metadata": {
    "collapsed": true
   },
   "outputs": [],
   "source": [
    "# Initialize parameter  \n",
    "W = random.random(size=(D_in, D_out)) # weights\n",
    "eta = 0.01 # learning rate\n",
    "maxIterations=1000\n",
    "L_train=[]; # train loss\n",
    "L_validation=[]; #validation loss"
   ]
  },
  {
   "cell_type": "code",
   "execution_count": 204,
   "metadata": {
    "collapsed": true
   },
   "outputs": [],
   "source": [
    "# Iterations \n",
    "for t in range(maxIterations):\n",
    "    # Compute loss\n",
    "    train_loss, validation_loss, grad_W= linearRegression(W, x_train, y_train, x_validation, y_validation)\n",
    "    \n",
    "    # Save the values\n",
    "    L_train.append (train_loss)\n",
    "    L_validation.append (validation_loss)\n",
    "    \n",
    "    # Update weights using gradient descent\n",
    "    W -= eta * grad_W"
   ]
  },
  {
   "cell_type": "code",
   "execution_count": 207,
   "metadata": {},
   "outputs": [
    {
     "data": {
      "image/png": "[encoded data removed]",
      "text/plain": [
       "<matplotlib.figure.Figure at 0x1c6d6667e80>"
      ]
     },
     "metadata": {},
     "output_type": "display_data"
    }
   ],
   "source": [
    "# Plot \n",
    "plt.plot(L_train,'r',label='train loss')\n",
    "plt.plot(L_validation,'b',label='validation loss')\n",
    "plt.title('Loss Curve') # give plot a title\n",
    "plt.xlabel('Iterations')# make axis labels\n",
    "plt.ylabel('Loss')\n",
    "plt.legend()\n",
    "plt.show()"
   ]
  },
  {
   "cell_type": "code",
   "execution_count": 206,
   "metadata": {},
   "outputs": [
    {
     "name": "stdout",
     "output_type": "stream",
     "text": [
      "---------Assessment Results--------\n",
      "RMSE_train= 4.96136623475 \n",
      "R-squared_train= 0.724127965617 \n",
      "adjusted R-squared_train = 0.710717519501\n",
      "\n",
      "---------Predicted Results---------\n",
      "RMSE_validation= 4.89733305645 \n",
      "R-squared_validation= 0.692970318205 \n",
      "adjusted R-squared_validation = 0.67010640573\n"
     ]
    }
   ],
   "source": [
    "#Assessment Result\n",
    "y_train_pred,RMSE_train,R2_train,adj_R2_train=predict(W , x_train, y_train )\n",
    "print('------------Assessment Results-----------\\nRMSE_train=',RMSE_train,'\\nR-squared_train=',R2_train,'\\nadjusted R-squared_train =',adj_R2_train)\n",
    "#Predicted Result\n",
    "y_validation_pred,RMSE_validation,R2_validation,adj_R2_validation=predict(W , x_validation, y_validation )\n",
    "print('\\n------------Predicted Results------------\\nRMSE_validation=',RMSE_validation,'\\nR-squared_validation=',R2_validation,'\\nadjusted R-squared_validation =',adj_R2_validation)"
   ]
  }
 ],
 "metadata": {
  "kernelspec": {
   "display_name": "Python 3",
   "language": "python",
   "name": "python3"
  },
  "language_info": {
   "codemirror_mode": {
    "name": "ipython",
    "version": 3
   },
   "file_extension": ".py",
   "mimetype": "text/x-python",
   "name": "python",
   "nbconvert_exporter": "python",
   "pygments_lexer": "ipython3",
   "version": "3.6.3"
  }
 },
 "nbformat": 4,
 "nbformat_minor": 2
}
